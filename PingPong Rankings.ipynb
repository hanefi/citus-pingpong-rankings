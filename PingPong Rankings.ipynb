{
 "cells": [
  {
   "cell_type": "code",
   "execution_count": 1,
   "metadata": {
    "ExecuteTime": {
     "end_time": "2020-03-24T08:39:06.922081Z",
     "start_time": "2020-03-24T08:39:06.578029Z"
    }
   },
   "outputs": [],
   "source": [
    "from elo import Elo\n",
    "import pandas as pd\n",
    "from datetime import datetime\n",
    "\n",
    "elo = Elo()"
   ]
  },
  {
   "cell_type": "markdown",
   "metadata": {},
   "source": [
    "# Create the initial rankings\n",
    "\n",
    "Please add your name and rerun all the cells below"
   ]
  },
  {
   "cell_type": "code",
   "execution_count": 2,
   "metadata": {
    "ExecuteTime": {
     "end_time": "2020-03-24T08:39:06.944597Z",
     "start_time": "2020-03-24T08:39:06.923553Z"
    }
   },
   "outputs": [],
   "source": [
    "names = ['Hanefi', 'Onur', 'Metin', 'Ekin', 'Aybuke']\n",
    "\n",
    "elo_history = pd.DataFrame(columns=['timestamp'] + names)\n",
    "elo_history.loc[0] = elo.create_rating()\n",
    "elo_history['timestamp'] = datetime.strptime(\n",
    "    '10/03/2020 12:00', \"%d/%m/%Y %H:%M\")\n",
    "\n",
    "matches = pd.DataFrame(columns=['winner', 'loser', 'timestamp'])"
   ]
  },
  {
   "cell_type": "code",
   "execution_count": 3,
   "metadata": {
    "ExecuteTime": {
     "end_time": "2020-03-24T08:39:06.955093Z",
     "start_time": "2020-03-24T08:39:06.947843Z"
    }
   },
   "outputs": [],
   "source": [
    "def record_game_result(winner, loser, timestamp):\n",
    "    global elo_history\n",
    "    global matches\n",
    "\n",
    "    timestamp = datetime.strptime(timestamp, \"%d/%m/%Y %H:%M\")\n",
    "\n",
    "    elo_history = elo_history.append(pd.DataFrame(data=elo_history.tail(\n",
    "        1).values, columns=elo_history.columns), ignore_index=True)\n",
    "    matches = matches.append(\n",
    "        {'winner': winner, 'loser': loser, 'timestamp': timestamp}, ignore_index=True)\n",
    "\n",
    "    winner_prev, loser_prev = elo_history.loc[len(\n",
    "        elo_history)-1, [winner, loser]]\n",
    "    winner_next, loser_next = elo.rate_1vs1(winner_prev, loser_prev)\n",
    "\n",
    "    elo_history.loc[len(elo_history)-1, 'timestamp'] = timestamp\n",
    "    elo_history.loc[len(elo_history)-1, winner] = winner_next\n",
    "    elo_history.loc[len(elo_history)-1, loser] = loser_next\n",
    "\n",
    "    print(f\"{winner}, {winner_prev} -> {winner_next}\")\n",
    "    print(f\"{loser}, {loser_prev} -> {loser_next}\")\n",
    "    print()\n",
    "\n",
    "    elo_history.to_csv('elo_history.csv')\n",
    "    matches.to_csv('matches.csv', index=False)"
   ]
  },
  {
   "cell_type": "code",
   "execution_count": 4,
   "metadata": {
    "ExecuteTime": {
     "end_time": "2020-03-24T08:39:07.087562Z",
     "start_time": "2020-03-24T08:39:06.956768Z"
    }
   },
   "outputs": [
    {
     "name": "stdout",
     "output_type": "stream",
     "text": [
      "Hanefi, 1200.0 -> 1205.0\n",
      "Onur, 1200.0 -> 1195.0\n",
      "\n",
      "Metin, 1200.0 -> 1205.0719508170905\n",
      "Hanefi, 1205.0 -> 1199.9280491829095\n",
      "\n",
      "Onur, 1195.0 -> 1200.0709155729462\n",
      "Hanefi, 1199.9280491829095 -> 1194.8571336099633\n",
      "\n",
      "Hanefi, 1194.8571336099633 -> 1199.931140001647\n",
      "Ekin, 1200.0 -> 1194.9259936083163\n",
      "\n",
      "Hanefi, 1199.931140001647 -> 1204.9321309766697\n",
      "Aybuke, 1200.0 -> 1194.9990090249773\n",
      "\n",
      "Metin, 1205.0719508170905 -> 1209.92703013414\n",
      "Aybuke, 1194.9990090249773 -> 1190.1439297079278\n",
      "\n",
      "Onur, 1200.0709155729462 -> 1205.1408695213622\n",
      "Hanefi, 1204.9321309766697 -> 1199.8621770282537\n",
      "\n",
      "Metin, 1209.92703013414 -> 1214.8581561028125\n",
      "Onur, 1205.1408695213622 -> 1200.2097435526898\n",
      "\n",
      "Onur, 1200.2097435526898 -> 1205.2047416699959\n",
      "Hanefi, 1199.8621770282537 -> 1194.8671789109476\n",
      "\n",
      "Metin, 1214.8581561028125 -> 1219.7192680401133\n",
      "Onur, 1205.2047416699959 -> 1200.343629732695\n",
      "\n",
      "Metin, 1219.7192680401133 -> 1224.3622264606065\n",
      "Hanefi, 1194.8671789109476 -> 1190.2242204904544\n",
      "\n",
      "Onur, 1200.343629732695 -> 1205.198040893755\n",
      "Hanefi, 1190.2242204904544 -> 1185.3698093293945\n",
      "\n",
      "Hanefi, 1185.3698093293945 -> 1190.5072992065266\n",
      "Ekin, 1194.9259936083163 -> 1189.7885037311842\n",
      "\n"
     ]
    }
   ],
   "source": [
    "record_game_result('Hanefi', 'Onur', '10/03/2020 14:00')\n",
    "record_game_result('Metin', 'Hanefi', '10/03/2020 15:45')\n",
    "record_game_result('Onur', 'Hanefi', '11/03/2020 12:45')\n",
    "record_game_result('Hanefi', 'Ekin', '11/03/2020 16:00')\n",
    "record_game_result('Hanefi', 'Aybuke', '12/03/2020 16:25')\n",
    "record_game_result('Metin', 'Aybuke', '12/03/2020 17:50')\n",
    "record_game_result('Onur', 'Hanefi', '13/03/2020 12:45')\n",
    "record_game_result('Metin', 'Onur', '13/03/2020 15:30')\n",
    "record_game_result('Onur', 'Hanefi', '13/03/2020 17:45')\n",
    "record_game_result('Metin', 'Onur', '13/03/2020 18:00')\n",
    "record_game_result('Metin', 'Hanefi', '13/03/2020 18:15')\n",
    "record_game_result('Onur', 'Hanefi', '16/03/2020 14:45')\n",
    "record_game_result('Hanefi', 'Ekin', '17/03/2020 14:45')\n"
   ]
  },
  {
   "cell_type": "code",
   "execution_count": 5,
   "metadata": {
    "ExecuteTime": {
     "end_time": "2020-03-24T08:39:07.112622Z",
     "start_time": "2020-03-24T08:39:07.089123Z"
    },
    "require": [
     "base/js/events",
     "datatables.net",
     "d3",
     "chartjs",
     "dt-config",
     "dt-components",
     "dt-graph-objects",
     "dt-toolbar",
     "dt-tooltips",
     "jupyter-datatables"
    ]
   },
   "outputs": [
    {
     "data": {
      "text/html": [
       "<div>\n",
       "<style scoped>\n",
       "    .dataframe tbody tr th:only-of-type {\n",
       "        vertical-align: middle;\n",
       "    }\n",
       "\n",
       "    .dataframe tbody tr th {\n",
       "        vertical-align: top;\n",
       "    }\n",
       "\n",
       "    .dataframe thead th {\n",
       "        text-align: right;\n",
       "    }\n",
       "</style>\n",
       "<table border=\"1\" class=\"dataframe\">\n",
       "  <thead>\n",
       "    <tr style=\"text-align: right;\">\n",
       "      <th></th>\n",
       "      <th>timestamp</th>\n",
       "      <th>Hanefi</th>\n",
       "      <th>Onur</th>\n",
       "      <th>Metin</th>\n",
       "      <th>Ekin</th>\n",
       "      <th>Aybuke</th>\n",
       "    </tr>\n",
       "  </thead>\n",
       "  <tbody>\n",
       "    <tr>\n",
       "      <th>0</th>\n",
       "      <td>2020-03-10 12:00:00</td>\n",
       "      <td>1200</td>\n",
       "      <td>1200</td>\n",
       "      <td>1200</td>\n",
       "      <td>1200</td>\n",
       "      <td>1200</td>\n",
       "    </tr>\n",
       "    <tr>\n",
       "      <th>1</th>\n",
       "      <td>2020-03-10 14:00:00</td>\n",
       "      <td>1205</td>\n",
       "      <td>1195</td>\n",
       "      <td>1200</td>\n",
       "      <td>1200</td>\n",
       "      <td>1200</td>\n",
       "    </tr>\n",
       "    <tr>\n",
       "      <th>2</th>\n",
       "      <td>2020-03-10 15:45:00</td>\n",
       "      <td>1199.93</td>\n",
       "      <td>1195</td>\n",
       "      <td>1205.07</td>\n",
       "      <td>1200</td>\n",
       "      <td>1200</td>\n",
       "    </tr>\n",
       "    <tr>\n",
       "      <th>3</th>\n",
       "      <td>2020-03-11 12:45:00</td>\n",
       "      <td>1194.86</td>\n",
       "      <td>1200.07</td>\n",
       "      <td>1205.07</td>\n",
       "      <td>1200</td>\n",
       "      <td>1200</td>\n",
       "    </tr>\n",
       "    <tr>\n",
       "      <th>4</th>\n",
       "      <td>2020-03-11 16:00:00</td>\n",
       "      <td>1199.93</td>\n",
       "      <td>1200.07</td>\n",
       "      <td>1205.07</td>\n",
       "      <td>1194.93</td>\n",
       "      <td>1200</td>\n",
       "    </tr>\n",
       "    <tr>\n",
       "      <th>5</th>\n",
       "      <td>2020-03-12 16:25:00</td>\n",
       "      <td>1204.93</td>\n",
       "      <td>1200.07</td>\n",
       "      <td>1205.07</td>\n",
       "      <td>1194.93</td>\n",
       "      <td>1195</td>\n",
       "    </tr>\n",
       "    <tr>\n",
       "      <th>6</th>\n",
       "      <td>2020-03-12 17:50:00</td>\n",
       "      <td>1204.93</td>\n",
       "      <td>1200.07</td>\n",
       "      <td>1209.93</td>\n",
       "      <td>1194.93</td>\n",
       "      <td>1190.14</td>\n",
       "    </tr>\n",
       "    <tr>\n",
       "      <th>7</th>\n",
       "      <td>2020-03-13 12:45:00</td>\n",
       "      <td>1199.86</td>\n",
       "      <td>1205.14</td>\n",
       "      <td>1209.93</td>\n",
       "      <td>1194.93</td>\n",
       "      <td>1190.14</td>\n",
       "    </tr>\n",
       "    <tr>\n",
       "      <th>8</th>\n",
       "      <td>2020-03-13 15:30:00</td>\n",
       "      <td>1199.86</td>\n",
       "      <td>1200.21</td>\n",
       "      <td>1214.86</td>\n",
       "      <td>1194.93</td>\n",
       "      <td>1190.14</td>\n",
       "    </tr>\n",
       "    <tr>\n",
       "      <th>9</th>\n",
       "      <td>2020-03-13 17:45:00</td>\n",
       "      <td>1194.87</td>\n",
       "      <td>1205.2</td>\n",
       "      <td>1214.86</td>\n",
       "      <td>1194.93</td>\n",
       "      <td>1190.14</td>\n",
       "    </tr>\n",
       "    <tr>\n",
       "      <th>10</th>\n",
       "      <td>2020-03-13 18:00:00</td>\n",
       "      <td>1194.87</td>\n",
       "      <td>1200.34</td>\n",
       "      <td>1219.72</td>\n",
       "      <td>1194.93</td>\n",
       "      <td>1190.14</td>\n",
       "    </tr>\n",
       "    <tr>\n",
       "      <th>11</th>\n",
       "      <td>2020-03-13 18:15:00</td>\n",
       "      <td>1190.22</td>\n",
       "      <td>1200.34</td>\n",
       "      <td>1224.36</td>\n",
       "      <td>1194.93</td>\n",
       "      <td>1190.14</td>\n",
       "    </tr>\n",
       "    <tr>\n",
       "      <th>12</th>\n",
       "      <td>2020-03-16 14:45:00</td>\n",
       "      <td>1185.37</td>\n",
       "      <td>1205.2</td>\n",
       "      <td>1224.36</td>\n",
       "      <td>1194.93</td>\n",
       "      <td>1190.14</td>\n",
       "    </tr>\n",
       "    <tr>\n",
       "      <th>13</th>\n",
       "      <td>2020-03-17 14:45:00</td>\n",
       "      <td>1190.51</td>\n",
       "      <td>1205.2</td>\n",
       "      <td>1224.36</td>\n",
       "      <td>1189.79</td>\n",
       "      <td>1190.14</td>\n",
       "    </tr>\n",
       "  </tbody>\n",
       "</table>\n",
       "</div>"
      ],
      "text/plain": [
       "             timestamp   Hanefi     Onur    Metin     Ekin   Aybuke\n",
       "0  2020-03-10 12:00:00     1200     1200     1200     1200     1200\n",
       "1  2020-03-10 14:00:00     1205     1195     1200     1200     1200\n",
       "2  2020-03-10 15:45:00  1199.93     1195  1205.07     1200     1200\n",
       "3  2020-03-11 12:45:00  1194.86  1200.07  1205.07     1200     1200\n",
       "4  2020-03-11 16:00:00  1199.93  1200.07  1205.07  1194.93     1200\n",
       "5  2020-03-12 16:25:00  1204.93  1200.07  1205.07  1194.93     1195\n",
       "6  2020-03-12 17:50:00  1204.93  1200.07  1209.93  1194.93  1190.14\n",
       "7  2020-03-13 12:45:00  1199.86  1205.14  1209.93  1194.93  1190.14\n",
       "8  2020-03-13 15:30:00  1199.86  1200.21  1214.86  1194.93  1190.14\n",
       "9  2020-03-13 17:45:00  1194.87   1205.2  1214.86  1194.93  1190.14\n",
       "10 2020-03-13 18:00:00  1194.87  1200.34  1219.72  1194.93  1190.14\n",
       "11 2020-03-13 18:15:00  1190.22  1200.34  1224.36  1194.93  1190.14\n",
       "12 2020-03-16 14:45:00  1185.37   1205.2  1224.36  1194.93  1190.14\n",
       "13 2020-03-17 14:45:00  1190.51   1205.2  1224.36  1189.79  1190.14"
      ]
     },
     "execution_count": 5,
     "metadata": {},
     "output_type": "execute_result"
    }
   ],
   "source": [
    "elo_history"
   ]
  },
  {
   "cell_type": "code",
   "execution_count": 6,
   "metadata": {
    "ExecuteTime": {
     "end_time": "2020-03-24T08:39:07.125722Z",
     "start_time": "2020-03-24T08:39:07.115115Z"
    },
    "require": [
     "base/js/events",
     "datatables.net",
     "d3",
     "chartjs",
     "dt-config",
     "dt-components",
     "dt-graph-objects",
     "dt-toolbar",
     "dt-tooltips",
     "jupyter-datatables"
    ],
    "scrolled": false
   },
   "outputs": [
    {
     "data": {
      "text/html": [
       "<div>\n",
       "<style scoped>\n",
       "    .dataframe tbody tr th:only-of-type {\n",
       "        vertical-align: middle;\n",
       "    }\n",
       "\n",
       "    .dataframe tbody tr th {\n",
       "        vertical-align: top;\n",
       "    }\n",
       "\n",
       "    .dataframe thead th {\n",
       "        text-align: right;\n",
       "    }\n",
       "</style>\n",
       "<table border=\"1\" class=\"dataframe\">\n",
       "  <thead>\n",
       "    <tr style=\"text-align: right;\">\n",
       "      <th></th>\n",
       "      <th>winner</th>\n",
       "      <th>loser</th>\n",
       "      <th>timestamp</th>\n",
       "    </tr>\n",
       "  </thead>\n",
       "  <tbody>\n",
       "    <tr>\n",
       "      <th>0</th>\n",
       "      <td>Hanefi</td>\n",
       "      <td>Onur</td>\n",
       "      <td>2020-03-10 14:00:00</td>\n",
       "    </tr>\n",
       "    <tr>\n",
       "      <th>1</th>\n",
       "      <td>Metin</td>\n",
       "      <td>Hanefi</td>\n",
       "      <td>2020-03-10 15:45:00</td>\n",
       "    </tr>\n",
       "    <tr>\n",
       "      <th>2</th>\n",
       "      <td>Onur</td>\n",
       "      <td>Hanefi</td>\n",
       "      <td>2020-03-11 12:45:00</td>\n",
       "    </tr>\n",
       "    <tr>\n",
       "      <th>3</th>\n",
       "      <td>Hanefi</td>\n",
       "      <td>Ekin</td>\n",
       "      <td>2020-03-11 16:00:00</td>\n",
       "    </tr>\n",
       "    <tr>\n",
       "      <th>4</th>\n",
       "      <td>Hanefi</td>\n",
       "      <td>Aybuke</td>\n",
       "      <td>2020-03-12 16:25:00</td>\n",
       "    </tr>\n",
       "    <tr>\n",
       "      <th>5</th>\n",
       "      <td>Metin</td>\n",
       "      <td>Aybuke</td>\n",
       "      <td>2020-03-12 17:50:00</td>\n",
       "    </tr>\n",
       "    <tr>\n",
       "      <th>6</th>\n",
       "      <td>Onur</td>\n",
       "      <td>Hanefi</td>\n",
       "      <td>2020-03-13 12:45:00</td>\n",
       "    </tr>\n",
       "    <tr>\n",
       "      <th>7</th>\n",
       "      <td>Metin</td>\n",
       "      <td>Onur</td>\n",
       "      <td>2020-03-13 15:30:00</td>\n",
       "    </tr>\n",
       "    <tr>\n",
       "      <th>8</th>\n",
       "      <td>Onur</td>\n",
       "      <td>Hanefi</td>\n",
       "      <td>2020-03-13 17:45:00</td>\n",
       "    </tr>\n",
       "    <tr>\n",
       "      <th>9</th>\n",
       "      <td>Metin</td>\n",
       "      <td>Onur</td>\n",
       "      <td>2020-03-13 18:00:00</td>\n",
       "    </tr>\n",
       "    <tr>\n",
       "      <th>10</th>\n",
       "      <td>Metin</td>\n",
       "      <td>Hanefi</td>\n",
       "      <td>2020-03-13 18:15:00</td>\n",
       "    </tr>\n",
       "    <tr>\n",
       "      <th>11</th>\n",
       "      <td>Onur</td>\n",
       "      <td>Hanefi</td>\n",
       "      <td>2020-03-16 14:45:00</td>\n",
       "    </tr>\n",
       "    <tr>\n",
       "      <th>12</th>\n",
       "      <td>Hanefi</td>\n",
       "      <td>Ekin</td>\n",
       "      <td>2020-03-17 14:45:00</td>\n",
       "    </tr>\n",
       "  </tbody>\n",
       "</table>\n",
       "</div>"
      ],
      "text/plain": [
       "    winner   loser           timestamp\n",
       "0   Hanefi    Onur 2020-03-10 14:00:00\n",
       "1    Metin  Hanefi 2020-03-10 15:45:00\n",
       "2     Onur  Hanefi 2020-03-11 12:45:00\n",
       "3   Hanefi    Ekin 2020-03-11 16:00:00\n",
       "4   Hanefi  Aybuke 2020-03-12 16:25:00\n",
       "5    Metin  Aybuke 2020-03-12 17:50:00\n",
       "6     Onur  Hanefi 2020-03-13 12:45:00\n",
       "7    Metin    Onur 2020-03-13 15:30:00\n",
       "8     Onur  Hanefi 2020-03-13 17:45:00\n",
       "9    Metin    Onur 2020-03-13 18:00:00\n",
       "10   Metin  Hanefi 2020-03-13 18:15:00\n",
       "11    Onur  Hanefi 2020-03-16 14:45:00\n",
       "12  Hanefi    Ekin 2020-03-17 14:45:00"
      ]
     },
     "execution_count": 6,
     "metadata": {},
     "output_type": "execute_result"
    }
   ],
   "source": [
    "matches"
   ]
  },
  {
   "cell_type": "code",
   "execution_count": 7,
   "metadata": {
    "ExecuteTime": {
     "end_time": "2020-03-24T08:39:07.132755Z",
     "start_time": "2020-03-24T08:39:07.127236Z"
    }
   },
   "outputs": [
    {
     "data": {
      "text/plain": [
       "Metin     5\n",
       "Hanefi    4\n",
       "Onur      4\n",
       "Name: winner, dtype: int64"
      ]
     },
     "execution_count": 7,
     "metadata": {},
     "output_type": "execute_result"
    }
   ],
   "source": [
    "pd.value_counts(matches['winner'])"
   ]
  },
  {
   "cell_type": "code",
   "execution_count": 8,
   "metadata": {
    "ExecuteTime": {
     "end_time": "2020-03-24T08:39:07.142710Z",
     "start_time": "2020-03-24T08:39:07.134853Z"
    }
   },
   "outputs": [
    {
     "data": {
      "text/plain": [
       "Hanefi    6\n",
       "Onur      3\n",
       "Aybuke    2\n",
       "Ekin      2\n",
       "Name: loser, dtype: int64"
      ]
     },
     "execution_count": 8,
     "metadata": {},
     "output_type": "execute_result"
    }
   ],
   "source": [
    "pd.value_counts(matches['loser'])"
   ]
  },
  {
   "cell_type": "code",
   "execution_count": 9,
   "metadata": {
    "ExecuteTime": {
     "end_time": "2020-03-24T08:39:07.175991Z",
     "start_time": "2020-03-24T08:39:07.144781Z"
    },
    "require": [
     "base/js/events",
     "datatables.net",
     "d3",
     "chartjs",
     "dt-config",
     "dt-components",
     "dt-graph-objects",
     "dt-toolbar",
     "dt-tooltips",
     "jupyter-datatables"
    ]
   },
   "outputs": [
    {
     "data": {
      "text/html": [
       "<div>\n",
       "<style scoped>\n",
       "    .dataframe tbody tr th:only-of-type {\n",
       "        vertical-align: middle;\n",
       "    }\n",
       "\n",
       "    .dataframe tbody tr th {\n",
       "        vertical-align: top;\n",
       "    }\n",
       "\n",
       "    .dataframe thead th {\n",
       "        text-align: right;\n",
       "    }\n",
       "</style>\n",
       "<table border=\"1\" class=\"dataframe\">\n",
       "  <thead>\n",
       "    <tr style=\"text-align: right;\">\n",
       "      <th></th>\n",
       "      <th>Hanefi</th>\n",
       "      <th>Onur</th>\n",
       "      <th>Metin</th>\n",
       "      <th>Ekin</th>\n",
       "      <th>Aybuke</th>\n",
       "    </tr>\n",
       "  </thead>\n",
       "  <tbody>\n",
       "    <tr>\n",
       "      <th>Hanefi</th>\n",
       "      <td>0</td>\n",
       "      <td>4</td>\n",
       "      <td>2</td>\n",
       "      <td>0</td>\n",
       "      <td>0</td>\n",
       "    </tr>\n",
       "    <tr>\n",
       "      <th>Onur</th>\n",
       "      <td>1</td>\n",
       "      <td>0</td>\n",
       "      <td>2</td>\n",
       "      <td>0</td>\n",
       "      <td>0</td>\n",
       "    </tr>\n",
       "    <tr>\n",
       "      <th>Metin</th>\n",
       "      <td>0</td>\n",
       "      <td>0</td>\n",
       "      <td>0</td>\n",
       "      <td>0</td>\n",
       "      <td>0</td>\n",
       "    </tr>\n",
       "    <tr>\n",
       "      <th>Ekin</th>\n",
       "      <td>2</td>\n",
       "      <td>0</td>\n",
       "      <td>0</td>\n",
       "      <td>0</td>\n",
       "      <td>0</td>\n",
       "    </tr>\n",
       "    <tr>\n",
       "      <th>Aybuke</th>\n",
       "      <td>1</td>\n",
       "      <td>0</td>\n",
       "      <td>1</td>\n",
       "      <td>0</td>\n",
       "      <td>0</td>\n",
       "    </tr>\n",
       "  </tbody>\n",
       "</table>\n",
       "</div>"
      ],
      "text/plain": [
       "        Hanefi  Onur  Metin  Ekin  Aybuke\n",
       "Hanefi       0     4      2     0       0\n",
       "Onur         1     0      2     0       0\n",
       "Metin        0     0      0     0       0\n",
       "Ekin         2     0      0     0       0\n",
       "Aybuke       1     0      1     0       0"
      ]
     },
     "execution_count": 9,
     "metadata": {},
     "output_type": "execute_result"
    }
   ],
   "source": [
    "matrix = pd.DataFrame(index=names, columns=names)\n",
    "\n",
    "matrix = matrix.fillna(0)\n",
    "\n",
    "\n",
    "def update_matrix(row):\n",
    "    winner, loser = row[['winner', 'loser']]\n",
    "    matrix[winner][loser] += 1\n",
    "\n",
    "\n",
    "matches.apply(update_matrix, axis=1)\n",
    "\n",
    "matrix"
   ]
  }
 ],
 "metadata": {
  "kernelspec": {
   "display_name": "Python 3",
   "language": "python",
   "name": "python3"
  },
  "language_info": {
   "codemirror_mode": {
    "name": "ipython",
    "version": 3
   },
   "file_extension": ".py",
   "mimetype": "text/x-python",
   "name": "python",
   "nbconvert_exporter": "python",
   "pygments_lexer": "ipython3",
   "version": "3.6.7"
  },
  "require": {
   "paths": {
    "buttons.colvis": "https://cdn.datatables.net/buttons/1.5.6/js/buttons.colVis.min",
    "buttons.flash": "https://cdn.datatables.net/buttons/1.5.6/js/buttons.flash.min",
    "buttons.html5": "https://cdn.datatables.net/buttons/1.5.6/js/buttons.html5.min",
    "buttons.print": "https://cdn.datatables.net/buttons/1.5.6/js/buttons.print.min",
    "chartjs": "https://cdnjs.cloudflare.com/ajax/libs/Chart.js/2.8.0/Chart",
    "d3": "https://d3js.org/d3.v5.min",
    "d3-array": "https://d3js.org/d3-array.v2.min",
    "datatables.net": "https://cdn.datatables.net/1.10.18/js/jquery.dataTables",
    "datatables.net-buttons": "https://cdn.datatables.net/buttons/1.5.6/js/dataTables.buttons.min",
    "datatables.responsive": "https://cdn.datatables.net/responsive/2.2.2/js/dataTables.responsive.min",
    "datatables.scroller": "https://cdn.datatables.net/scroller/2.0.0/js/dataTables.scroller.min",
    "datatables.select": "https://cdn.datatables.net/select/1.3.0/js/dataTables.select.min",
    "jszip": "https://cdnjs.cloudflare.com/ajax/libs/jszip/2.5.0/jszip.min",
    "moment": "https://cdnjs.cloudflare.com/ajax/libs/moment.js/2.8.0/moment",
    "pdfmake": "https://cdnjs.cloudflare.com/ajax/libs/pdfmake/0.1.36/pdfmake.min",
    "vfsfonts": "https://cdnjs.cloudflare.com/ajax/libs/pdfmake/0.1.36/vfs_fonts"
   },
   "shim": {
    "buttons.colvis": {
     "deps": [
      "jszip",
      "datatables.net-buttons"
     ]
    },
    "buttons.flash": {
     "deps": [
      "jszip",
      "datatables.net-buttons"
     ]
    },
    "buttons.html5": {
     "deps": [
      "jszip",
      "datatables.net-buttons"
     ]
    },
    "buttons.print": {
     "deps": [
      "jszip",
      "datatables.net-buttons"
     ]
    },
    "chartjs": {
     "deps": [
      "moment"
     ]
    },
    "datatables.net": {
     "exports": "$.fn.dataTable"
    },
    "datatables.net-buttons": {
     "deps": [
      "datatables.net"
     ]
    },
    "pdfmake": {
     "deps": [
      "datatables.net"
     ]
    },
    "vfsfonts": {
     "deps": [
      "datatables.net"
     ]
    }
   }
  }
 },
 "nbformat": 4,
 "nbformat_minor": 4
}
